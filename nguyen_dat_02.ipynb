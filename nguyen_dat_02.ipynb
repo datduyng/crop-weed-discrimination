{
 "cells": [
  {
   "cell_type": "markdown",
   "metadata": {},
   "source": [
    "\n"
   ]
  },
  {
   "cell_type": "code",
   "execution_count": 1,
   "metadata": {
    "collapsed": true
   },
   "outputs": [],
   "source": [
    "# As usual, a bit of setup\n",
    "from __future__ import print_function\n",
    "import matplotlib.pyplot as plt\n",
    "import numpy as np\n",
    "import pandas as pd\n",
    "\n",
    "# pd.set_option('display.max_rows', 1000)\n",
    "\n",
    "%matplotlib inline\n",
    "plt.rcParams['figure.figsize'] = (20,15) # set default size of plots\n",
    "plt.rcParams['image.interpolation'] = 'nearest'\n",
    "plt.rcParams['image.cmap'] = 'gray'\n",
    "\n",
    "\n",
    "# for auto-reloading external modules\n",
    "# see http://stackoverflow.com/questions/1907993/autoreload-of-modules-in-ipython\n",
    "%load_ext autoreload\n",
    "%autoreload 2"
   ]
  },
  {
   "cell_type": "markdown",
   "metadata": {},
   "source": [
    "## <u>Problem 1: Distances and Norms</u>"
   ]
  },
  {
   "cell_type": "markdown",
   "metadata": {},
   "source": [
    "<u>**Problem 1.**</u> In a cell by itself, define a function that accepts two equal sized NumPy arrays(vector) and return their cosine similarity. Use Numpy functions to calculate the dot product of the vectors and their magnitude\n",
    "\n",
    "**My note:**\n",
    "\n",
    "- [more info](http://blog.christianperone.com/2013/09/machine-learning-cosine-similarity-for-vector-space-models-part-iii/)\n",
    "\n",
    "**Dot Procduct**\n",
    "\n",
    "- Intuition: The dot product tell you what amount of one vector go to other vector direction. \n",
    "$$\n",
    "\\vec{v1} . \\vec{v2} = |v1||v2|cos(\\theta) \n",
    "$$\n",
    "- In this case, the $cos(\\theta)$ tell the strength on the direction of 2 vector. since cos() have range of 0 to 1.\n",
    "\n",
    "**Cosine simlilarity**\n",
    "\n",
    "- A measure that calcullate the cosin e of the angle between 2 vector. This metric measure the orientation and not the magnitude. Idea: measure the angle between the 2 vector(or documents)\n",
    "\n",
    "$$\n",
    "cos(\\theta) = \\frac{\\vec{v1} . \\vec{v2}}{|v1||v2|}\n",
    "$$\n"
   ]
  },
  {
   "cell_type": "markdown",
   "metadata": {},
   "source": [
    "###### Answer"
   ]
  },
  {
   "cell_type": "code",
   "execution_count": 2,
   "metadata": {
    "collapsed": true
   },
   "outputs": [],
   "source": [
    "#NOTE: this function return cos(theta) not theta\n",
    "def cos_similarity(v1, v2):\n",
    "    '''\n",
    "    This function compute the cos_similiarity given 2 **zero rank matrix**\n",
    "    '''\n",
    "    if(v1.shape != v2.shape):\n",
    "        raise ValueError('Dim error: %s not same as %s'%((v1.shape,),(v2.shape,)))\n",
    "    num = v1.T.dot(v2)\n",
    "    denom = np.linalg.norm(v1) * np.linalg.norm(v2)#Compute the magnitude\n",
    "    return num/denom"
   ]
  },
  {
   "cell_type": "code",
   "execution_count": 3,
   "metadata": {},
   "outputs": [
    {
     "name": "stdout",
     "output_type": "stream",
     "text": [
      "expected: 0.3069434629021368 answer: 0.306943462902\n",
      "expected: 0.3069434629021368 answer: 0.064543281456\n"
     ]
    }
   ],
   "source": [
    "v1 = np.array([121,51,6])\n",
    "v2 = np.array([2,51,61])\n",
    "v3 = np.array([23.1,36.2,457.0])\n",
    "v4 = np.array([2.2,62.0,-1])\n",
    "#Expected: 0.30694346290213681\n",
    "print('expected:',0.30694346290213681, 'answer:',cos_similarity(v1, v2))\n",
    "print('expected:',0.30694346290213681, 'answer:',cos_similarity(v3, v4))"
   ]
  },
  {
   "cell_type": "markdown",
   "metadata": {},
   "source": [
    "**Problem 2.** <br>\n",
    "**a.** Write a brief description of what cosine similarity measures focusing on the geometric interpretation"
   ]
  },
  {
   "cell_type": "markdown",
   "metadata": {},
   "source": [
    "- Base on the geometric interpretation, the similarity cosine measures the angles between 2 vectors. In other words, in a data space by looking at the similarity cosine measure we are able to determine the orientation of datas projected in "
   ]
  },
  {
   "cell_type": "markdown",
   "metadata": {},
   "source": [
    "**b.** Explain the geometric interpretation of two vectors with cosine similarity of 0 "
   ]
  },
  {
   "cell_type": "markdown",
   "metadata": {},
   "source": [
    "- When cosine similarity measure equals to 0 (`cos(90) = 0`), this tell that the data space is 90 degrees apart in their orientation. Further, the vectors are in difference space. One can coludes that the 2 attribute in vectors are not related(independent)\n",
    "\n",
    "- Ex:\n",
    "```python\n",
    "v1 = np.array([[0,3]])\n",
    "v2 = np.array([[2,0]])\n",
    "```\n",
    "\n",
    "- The above example would result cosine similarity measure to be zeros. As in each dimension, only one vector contribute to that data space.\n"
   ]
  },
  {
   "cell_type": "markdown",
   "metadata": {},
   "source": [
    "**c.**Explain the geometric interpretation of two vectors with a cosine similarity of 1 or -1 \n",
    "\n",
    "```\n",
    "cos(0) = 1\n",
    "cos(180) = -1\n",
    "```\n",
    "\n",
    "In the first case where the angle between vectors are 0 degrees apart. This indicate that vectors are in the same direction and result in the maximum strength.\n",
    "\n",
    "In the second case where the angle between vectors are 180 apart. This indicate that vectors are in the same axis(dimension) but in a complete opposite direction. \n",
    "\n",
    "<img src='https://user-images.githubusercontent.com/35666615/51205811-5a5dc300-18cc-11e9-84b6-6f57d7333ebc.PNG' width='500' height='500'>\n"
   ]
  },
  {
   "cell_type": "markdown",
   "metadata": {},
   "source": [
    "**3.** Manually define 3 numpy arrays (x1,x2,x3) and randomly generate 1 (x4) such that: <br>\n",
    "a) Each has 2 dimensions, and is integer valued from the set [-10,10]<br>\n",
    "b) x1 and x2 are collinear <br>\n",
    "c) x1 and x3 are orthogonal <br>\n",
    "d) x4 is randomly generated using NumPy’s random module, according to the criteria in a)<br>\n",
    "\n",
    "- My note:\n",
    "    - Colinearity of 2 point: Mean if vectors can be draw on a lines. Points are colinear if they all be drawn on a line. So 2 vector of 2 dim are alway colineary\n",
    "    - Colinearity: linear association between two dependent and independent variable. Two variable are perfectly colinear if there is an exact linear relationship between them. \n",
    "    - Ex: consider, $\\vec{a}$ and $\\vec{b}$. The 2 vector is colinear if one can be represent by multiple of other. (e.g $\\vec{a} = \\lambda\\vec{b}$) where $\\lambda$ is a scalar constant[(more info)](https://www.youtube.com/watch?v=RVVotbmzv1o)"
   ]
  },
  {
   "cell_type": "code",
   "execution_count": 28,
   "metadata": {},
   "outputs": [
    {
     "name": "stdout",
     "output_type": "stream",
     "text": [
      "x4: [ 3 -7]\n"
     ]
    }
   ],
   "source": [
    "x1 = np.array([1,1])\n",
    "x2 = np.array([2,2])\n",
    "x3 = np.array([-1,1])\n",
    "x4 = np.random.randint(low=-10,high=10, size=(2,))\n",
    "print(\"x4:\", x4)"
   ]
  },
  {
   "cell_type": "markdown",
   "metadata": {},
   "source": [
    "**4.** Print the result of your cosine similarity function applied to the pairs (x1,x2), (x1,x3), and (x1,x4) in a human-understandable way, e.g. “The cosine similarity of [1 1] and [-10 6] is -0.242535” \n",
    "\n",
    "Note: Cosine Similarity is useful in machine learning when we want a similarity metric between two vectors that is not dependent on their magnitudes. For this reason, it is frequently used in natural language processing to compare the content similarity of documents, even if they differ greatly in length"
   ]
  },
  {
   "cell_type": "code",
   "execution_count": 29,
   "metadata": {},
   "outputs": [
    {
     "name": "stdout",
     "output_type": "stream",
     "text": [
      "The Cosine similarity of(x1,x2) [[1 1]] and [[2 2]] is 1.000000\n",
      "The Cosine similarity of (x1,x3)[[1 1]] and [[-1  1]] is 0.000000\n",
      "The Cosine similarity of (x1,x4)[[1 1]] and [[ 3 -7]] is -0.371391\n"
     ]
    }
   ],
   "source": [
    "print(\"The Cosine similarity of(x1,x2) [%s] and [%s] is %f\"%\n",
    "      (np.array_str(x1),np.array_str(x2),cos_similarity(x1,x2)) )\n",
    "\n",
    "print(\"The Cosine similarity of (x1,x3)[%s] and [%s] is %f\"%\n",
    "      (np.array_str(x1),np.array_str(x3),cos_similarity(x1,x3)) )\n",
    "\n",
    "print(\"The Cosine similarity of (x1,x4)[%s] and [%s] is %f\"%\n",
    "      (np.array_str(x1),np.array_str(x4),cos_similarity(x1,x4)) )"
   ]
  },
  {
   "cell_type": "markdown",
   "metadata": {},
   "source": [
    "**5.** Use matplotlib.pyplot’s “quiver” function to graph all of your vectors on the same plane, assigning each a different color <br>\n",
    "a) example: [stackvoverflow](file:///C:/Users/datng/OneDrive/college/unlCourses/csce478-machine-learning/csce478-s19-Machine-Learning/handout/cs478-Recitation02.pdf)"
   ]
  },
  {
   "cell_type": "code",
   "execution_count": 30,
   "metadata": {},
   "outputs": [
    {
     "name": "stdout",
     "output_type": "stream",
     "text": [
      "[[ 1  1]\n",
      " [ 2  2]\n",
      " [-1  1]\n",
      " [ 3 -7]]\n"
     ]
    }
   ],
   "source": [
    "#Stack all the vector\n",
    "all_v = np.array([x1,x2,x3,x4])\n",
    "print(all_v)"
   ]
  },
  {
   "cell_type": "code",
   "execution_count": 31,
   "metadata": {},
   "outputs": [
    {
     "data": {
      "image/png": "[encoded data removed]",
      "text/plain": [
       "<matplotlib.figure.Figure at 0x2b830ef93748>"
      ]
     },
     "metadata": {},
     "output_type": "display_data"
    }
   ],
   "source": [
    "origin = [0], [0] # origin poin\n",
    "plt.quiver(*origin, all_v[:,0], all_v[:,1],color=['r','b','g','y'], scale=21)\n",
    "plt.show()"
   ]
  },
  {
   "cell_type": "markdown",
   "metadata": {},
   "source": [
    "**6.** Compute and print out the following values for x4: L1 norm (aka Manhattan), L2 norm (aka Euclidean), L4, and L10 norms "
   ]
  },
  {
   "cell_type": "code",
   "execution_count": 32,
   "metadata": {
    "collapsed": true
   },
   "outputs": [],
   "source": [
    "norm = {}\n",
    "norm['L1'] = lambda x:np.abs(x).sum()\n",
    "norm['L2'] = lambda x:np.sqrt((x**2).sum())\n",
    "norm['L4'] = lambda x:np.sqrt((x**4).sum())\n",
    "norm['L10'] = lambda x:np.sqrt((x**10).sum())"
   ]
  },
  {
   "cell_type": "code",
   "execution_count": 33,
   "metadata": {},
   "outputs": [
    {
     "name": "stdout",
     "output_type": "stream",
     "text": [
      "L1 norm: 10.000000\n",
      "L2 norm: 7.615773\n",
      "L4 norm: 49.819675\n",
      "L10 norm: 16808.756587\n"
     ]
    }
   ],
   "source": [
    "for key,L in norm.items(): \n",
    "    print('%s norm: %f'%(str(key),L(x4)))"
   ]
  },
  {
   "cell_type": "markdown",
   "metadata": {},
   "source": [
    "**7.** Compute and print out the following values for the pair of vectors (x1,x4): L1 distance (Manhattan), L2 distance (Euclidean), L4 distance, and L10 distance "
   ]
  },
  {
   "cell_type": "code",
   "execution_count": 34,
   "metadata": {
    "collapsed": true
   },
   "outputs": [],
   "source": [
    "norm2point = {}\n",
    "norm2point['L1'] = lambda x1,x2:np.abs(x1-x2).sum()\n",
    "norm2point['L2'] = lambda x1,x2:np.sqrt(((x1-x2)**2).sum())\n",
    "norm2point['L4'] = lambda x1,x2:np.sqrt(((x1-x2)**4).sum())\n",
    "norm2point['L10'] = lambda x1,x2:np.sqrt(((x1-x2)**10).sum())"
   ]
  },
  {
   "cell_type": "code",
   "execution_count": 35,
   "metadata": {},
   "outputs": [
    {
     "name": "stdout",
     "output_type": "stream",
     "text": [
      "L1 norm(x1,x4): 10.000000\n",
      "L2 norm(x1,x4): 8.246211\n",
      "L4 norm(x1,x4): 64.124878\n",
      "L10 norm(x1,x4): 32768.015625\n"
     ]
    }
   ],
   "source": [
    "for key,L in norm2point.items(): \n",
    "    print('%s norm(x1,x4): %f'%(str(key),L(x1,x4)))"
   ]
  },
  {
   "cell_type": "markdown",
   "metadata": {},
   "source": [
    "------"
   ]
  },
  {
   "cell_type": "markdown",
   "metadata": {},
   "source": [
    "## <u> Problem 2: Rank, Matrix Inverses, and Solving Linear Systems</u>"
   ]
  },
  {
   "cell_type": "markdown",
   "metadata": {},
   "source": [
    "**1.** Using the seed 402, generate a uniform random 3x3 matrix with continuous values from the set [10,10). We will call this matrix Mat for the remainder of the problem. <br>\n",
    "a. Print the matrix<br>\n",
    "b. Print the rank of the matrix<br>\n",
    "\n",
    "**my note:**\n",
    "\n",
    "- The [rank of a matrix](https://stattrek.com/matrix-algebra/matrix-rank.aspx) tell the degree of freedom of the system(in this case a matrix). Rank of matrix equal to the total of number of independent variable in the system(represent by a matrix in this case). Total number of independent variable can be find by detmine the REF of the matrix\n",
    "<img src=\"https://user-images.githubusercontent.com/35666615/51213288-4f149280-18e0-11e9-894a-d0f5497ace22.jpg\">"
   ]
  },
  {
   "cell_type": "code",
   "execution_count": 37,
   "metadata": {},
   "outputs": [
    {
     "name": "stdout",
     "output_type": "stream",
     "text": [
      "[[-8.98284725 -0.46598279 -3.76715685]\n",
      " [ 8.03269592 -0.09947017 -0.03530441]\n",
      " [ 8.23689424  9.13449309 -3.09868078]]\n",
      "Rank of W: 3\n"
     ]
    }
   ],
   "source": [
    "np.random.seed(402)\n",
    "Mat = np.random.uniform(low=-10.0, high=10.0, size=(3,3))\n",
    "print(Mat)\n",
    "print(\"Rank of W:\", np.linalg.matrix_rank(Mat))"
   ]
  },
  {
   "cell_type": "code",
   "execution_count": null,
   "metadata": {
    "collapsed": true
   },
   "outputs": [],
   "source": []
  },
  {
   "cell_type": "markdown",
   "metadata": {},
   "source": [
    "**2.** In a markdown cell, explain the relationship between the rank of a matrix and the existence of the matrix inverse. Explain the geometric intuition for this relationship. "
   ]
  },
  {
   "cell_type": "markdown",
   "metadata": {
    "collapsed": true
   },
   "source": [
    "My note:<br>\n",
    "Does the Inverse Exist?[(more info)](https://stattrek.com/matrix-algebra/matrix-inverse.aspx)<br> \n",
    "\n",
    "- There are 2 ways to detemine whether the inverse of a square matrix exist:\n",
    "    - **Detemine its ranks.** The rank of a matrix is a unique number associated with a squared matrix. If the rank of an n x n matrix is less than n, the matrix does not have an inverse. Why? because a rank less than its matrix dimension mean that the space of all vector in matrix is missing one dimension(otherword, there exist at least one dimension in the matrix where it is null or nothing)\n",
    "    - **Compute its determinant**. The determinant is another unique number associated with a square matrix. When the determinant for a square matrix equal to zero, the inverse for that matrix does not exist. "
   ]
  },
  {
   "cell_type": "markdown",
   "metadata": {
    "collapsed": true
   },
   "source": [
    "#### Answer: \n",
    "- The rank of a matrix is a unique number associated with a squared matrix. If the rank of an n x n matrix is less than n, the matrix does not have an inverse. Why? because a rank less than its matrix dimension mean that the space of all vector in matrix is missing one dimension(otherword, there exist at least one dimension in the matrix where it is null or nothing)"
   ]
  },
  {
   "cell_type": "markdown",
   "metadata": {},
   "source": [
    "**3.** Calculate and print the multiplicative inverse of Mat using NumPy. \n",
    "\n",
    "- **NOTE**: the result of this problem is the Identity matrix. some of the result are `-6.93889390e-18, -6.93889390e-17` which is close to zeros"
   ]
  },
  {
   "cell_type": "code",
   "execution_count": 38,
   "metadata": {},
   "outputs": [
    {
     "name": "stdout",
     "output_type": "stream",
     "text": [
      "[[  1.00000000e+00  -1.11022302e-16   0.00000000e+00]\n",
      " [  8.50014503e-17   1.00000000e+00  -1.40946282e-18]\n",
      " [  0.00000000e+00   1.11022302e-16   1.00000000e+00]]\n"
     ]
    }
   ],
   "source": [
    "I = Mat.dot(np.linalg.inv(Mat))\n",
    "print(I)"
   ]
  },
  {
   "cell_type": "markdown",
   "metadata": {},
   "source": [
    "**4.** Use the inverse of Mat to solve the equation below for x. Note that * will denote standard matrix multiplication: \n",
    "$$\n",
    "Mat * x = b\\\\\n",
    "where\\,b = [1\\,2\\,3].T\n",
    "$$"
   ]
  },
  {
   "cell_type": "code",
   "execution_count": 39,
   "metadata": {},
   "outputs": [
    {
     "name": "stdout",
     "output_type": "stream",
     "text": [
      "[[ 0.24324697]\n",
      " [-0.17057196]\n",
      " [-0.82437947]]\n"
     ]
    }
   ],
   "source": [
    "b = np.array([[1,2,3]])\n",
    "x = np.linalg.inv(Mat).dot(b.T)\n",
    "print(x)"
   ]
  },
  {
   "cell_type": "code",
   "execution_count": 40,
   "metadata": {},
   "outputs": [
    {
     "name": "stdout",
     "output_type": "stream",
     "text": [
      "Mat dot x = b\n",
      " [[ 1.]\n",
      " [ 2.]\n",
      " [ 3.]]\n"
     ]
    }
   ],
   "source": [
    "print('Mat dot x = b\\n', Mat.dot(x))"
   ]
  },
  {
   "cell_type": "markdown",
   "metadata": {},
   "source": [
    "**5.** Use NumPy’s built-in solver (linalg.solve) to find x numerically <br>\n",
    "a. Print the new x <br>\n",
    "b. Always do this in the real world instead of calculating the inverse first in order to preserve numerical stability as much as possible. It can be an issue on larger problems. <br>"
   ]
  },
  {
   "cell_type": "code",
   "execution_count": 41,
   "metadata": {},
   "outputs": [
    {
     "name": "stdout",
     "output_type": "stream",
     "text": [
      "[[ 0.24324697]\n",
      " [-0.17057196]\n",
      " [-0.82437947]]\n"
     ]
    }
   ],
   "source": [
    "newX = (np.linalg.solve(Mat, b.T))\n",
    "print(newX)"
   ]
  },
  {
   "cell_type": "code",
   "execution_count": 42,
   "metadata": {},
   "outputs": [
    {
     "data": {
      "text/plain": [
       "array([[ 1.],\n",
       "       [ 2.],\n",
       "       [ 3.]])"
      ]
     },
     "execution_count": 42,
     "metadata": {},
     "output_type": "execute_result"
    }
   ],
   "source": [
    "## Quick sanity check\n",
    "np.dot(Mat, newX)"
   ]
  },
  {
   "cell_type": "markdown",
   "metadata": {},
   "source": [
    "**6.** Define a new matrix,\n",
    "\n",
    "```python\n",
    "newMat = [1,-1,1]\n",
    "         [-3,2,4]\n",
    "         [-1,0,6]\n",
    "```\n",
    "\n",
    "a. Print newMat's rank <br>\n",
    "b. Print newmat's inverse<br>\n",
    "c. print newMat * newMatInverse<br>\n",
    "d. Solve the equation in part 4, subtitute newMat for Mat<br>\n",
    "e. Notice the lack of errors and think about the implications when you may need to use these functions in designing a machine learning algorithm. Write these thoughts in a separate markdown cell. "
   ]
  },
  {
   "cell_type": "code",
   "execution_count": 43,
   "metadata": {},
   "outputs": [
    {
     "name": "stdout",
     "output_type": "stream",
     "text": [
      "a. Rank: 2\n",
      "\n",
      "b. Inverse:\n",
      "[[ -1.35107989e+16  -6.75539944e+15   6.75539944e+15]\n",
      " [ -1.57625987e+16  -7.88129935e+15   7.88129935e+15]\n",
      " [ -2.25179981e+15  -1.12589991e+15   1.12589991e+15]]\n",
      "\n",
      "c. newMat * newMatInverse\n",
      "[[ 0.  0.  1.]\n",
      " [ 0.  0. -2.]\n",
      " [ 0.  0.  0.]]\n",
      "\n",
      "d. Solve the equation in part 4, substituting newMat for Mat\n",
      "[[ -6.75539944e+15]\n",
      " [ -7.88129935e+15]\n",
      " [ -1.12589991e+15]]\n"
     ]
    }
   ],
   "source": [
    "newMat = np.array([[1,-1,1],\n",
    "                   [-3,2,4],\n",
    "                   [-1,0,6]])\n",
    "#get Rank\n",
    "print(\"a. Rank:\", np.linalg.matrix_rank(newMat))\n",
    "\n",
    "# Get inverse\n",
    "print(\"\\nb. Inverse:\")\n",
    "newMatInverse = np.linalg.inv(newMat)\n",
    "print(newMatInverse)\n",
    "\n",
    "#newMat * newMatInverse\n",
    "print(\"\\nc. newMat * newMatInverse\")\n",
    "print(newMat.dot(newMatInverse))\n",
    "\n",
    "print(\"\\nd. Solve the equation in part 4, substituting newMat for Mat\")\n",
    "b = np.array([[1,2,3]])\n",
    "print(np.linalg.solve(newMat, b.T))\n"
   ]
  },
  {
   "cell_type": "markdown",
   "metadata": {
    "collapsed": true
   },
   "source": [
    "e. Notice the lack of errors and think about the implications when you may need to use these functions in designing a machine learning algorithm. Write these thoughts in a separate markdown cell.\n",
    "\n",
    "- Before computing  the inverse or any matrix operation like dot product, cross product,.. it is good practice to double check the dimension and rank of the matrix. \n",
    "- In the example above, result for b) is wrong as this newMat does not have an inverse. Python will not check but would do what I tell it to do. "
   ]
  },
  {
   "cell_type": "markdown",
   "metadata": {},
   "source": [
    "**7.** Now approximate the solution for x in equation 4 with newMat substituted using linalg.lstsq, which performs least squares approximation "
   ]
  },
  {
   "cell_type": "code",
   "execution_count": 44,
   "metadata": {},
   "outputs": [
    {
     "name": "stdout",
     "output_type": "stream",
     "text": [
      "Least square solution\n",
      "[[ 0.03100775]\n",
      " [-0.10271318]\n",
      " [ 0.53294574]]\n",
      "\n",
      "Residual []\n",
      "\n",
      "rank 2\n",
      "\n",
      "singular value(sqrt(non-zeros eigenvalue)) of a:\n",
      "[ 7.77600954  2.92124557 -0.        ]\n"
     ]
    }
   ],
   "source": [
    "'''\n",
    "x : {(N,), (N, K)} ndarray\n",
    "\n",
    "Least-squares solution. If b is two-dimensional, the solutions are in the K columns of x.\n",
    "residuals : {(), (1,), (K,)} ndarray\n",
    "Sums of residuals; squared Euclidean 2-norm for each column in b - a*x. If the rank of a is < N or M <= N, this is an empty array. If b is 1-dimensional, this is a (1,) shape array. Otherwise the shape is (K,).\n",
    "rank : int\n",
    "Rank of matrix a.\n",
    "s : (min(M, N),) ndarray\n",
    "Singular values of a.\n",
    "'''\n",
    "lst_solution, residual, rank, s = np.linalg.lstsq(newMat, b.T)\n",
    "print(\"Least square solution\")\n",
    "print(lst_solution)\n",
    "print(\"\\nResidual\",residual)\n",
    "print(\"\\nrank\",rank)\n",
    "print(\"\\nsingular value(sqrt(non-zeros eigenvalue)) of a:\")\n",
    "print(s)"
   ]
  },
  {
   "cell_type": "markdown",
   "metadata": {},
   "source": [
    "b. Print newMat*solution which we will cal b_hat since it is an approximation"
   ]
  },
  {
   "cell_type": "code",
   "execution_count": 45,
   "metadata": {},
   "outputs": [
    {
     "name": "stdout",
     "output_type": "stream",
     "text": [
      "[[ 0.66666667]\n",
      " [ 1.83333333]\n",
      " [ 3.16666667]]\n"
     ]
    }
   ],
   "source": [
    "b_hat = newMat.dot(lst_solution)\n",
    "print(b_hat)"
   ]
  },
  {
   "cell_type": "markdown",
   "metadata": {},
   "source": [
    "c. Print the Euclidian distance between b and b_hat "
   ]
  },
  {
   "cell_type": "code",
   "execution_count": 46,
   "metadata": {},
   "outputs": [
    {
     "name": "stdout",
     "output_type": "stream",
     "text": [
      "Euclidian(L2) between b and b_hat:  0.408248290464\n"
     ]
    }
   ],
   "source": [
    "print(\"Euclidian(L2) between b and b_hat: \",norm2point['L2'](b.T, b_hat))"
   ]
  },
  {
   "cell_type": "markdown",
   "metadata": {},
   "source": [
    "## <u> Problem 3: Determinants, Eigenvalues, and Positive Definite Matrices </u>"
   ]
  },
  {
   "cell_type": "markdown",
   "metadata": {},
   "source": [
    "1. Using a normal distribution and the seed 88, generate a random 3x3 matrix with a mean of 5 and variance of 10. This matrix will be referred to as Mat2 for the rest of the problem. "
   ]
  },
  {
   "cell_type": "code",
   "execution_count": 47,
   "metadata": {},
   "outputs": [
    {
     "name": "stdout",
     "output_type": "stream",
     "text": [
      "[[  5.33799785  11.97540026   8.02491684]\n",
      " [  5.21633489   8.37893737   8.15336839]\n",
      " [  2.05418684   7.30982403   4.45857477]]\n"
     ]
    }
   ],
   "source": [
    "np.random.seed(88)\n",
    "#Answer number 1(2 answer for this problem so)\n",
    "sigma = np.sqrt(10)\n",
    "mu = 5\n",
    "Mat2 = sigma * np.random.randn(3,3) + mu\n",
    "print(Mat2)"
   ]
  },
  {
   "cell_type": "code",
   "execution_count": 48,
   "metadata": {},
   "outputs": [
    {
     "name": "stdout",
     "output_type": "stream",
     "text": [
      "6.76772680361\n",
      "7.27898277827\n"
     ]
    }
   ],
   "source": [
    "print(np.mean(Mat2))\n",
    "print(np.var(Mat2))"
   ]
  },
  {
   "cell_type": "markdown",
   "metadata": {},
   "source": [
    "**2.** Calculate the determinant of mat2 and print it"
   ]
  },
  {
   "cell_type": "code",
   "execution_count": 49,
   "metadata": {},
   "outputs": [
    {
     "name": "stdout",
     "output_type": "stream",
     "text": [
      "Det: -28.801935084\n"
     ]
    }
   ],
   "source": [
    "d = np.linalg.det(Mat2)\n",
    "print(\"Det:\",d)"
   ]
  },
  {
   "cell_type": "markdown",
   "metadata": {},
   "source": [
    "**3.** In a markdown box, give the brief geometric intuition for what a determinant means and what it means for a determinant to be negative. What would a 0 determinant mean then? \n",
    "\n",
    "- [Meaning of determinant(3Blue1brown)](https://www.youtube.com/watch?v=Ip3X9LOh2dk)\n",
    "\n",
    "Answer:<br>\n",
    "\n",
    "- important of linear tranformation is to measure how much the transformation stretch or shrink space out(deteminant will help on that). More specifically, to measure how much a specific area scaled. \n",
    "- ex:\n",
    "\n",
    "``\n",
    "initially: \n",
    "a = [1 0]\n",
    "    [0 1]\n",
    "Area(a) is 1\n",
    "after a transform, we have\n",
    "[3 0]\n",
    "[0 2]\n",
    "and the area now scaled 6. this indicate that \n",
    "det[3 0] = 6\n",
    "   [0 2] \n",
    "``\n",
    "\n",
    "- We can say that the determinant is `k` if that transformation increase the area by a fraction of k. \n",
    "- The determination is 0(det = 0) if it squish all the area in to a line or even a point. Since then the area of any region to be zeros. \n",
    "- Concept of determinant allow negative value. How do we scale a number by negative? (IT have to do with orientation). Asscoiate with flipping space.(inverse orientation of space). The absolute values still tell the scaling factor"
   ]
  },
  {
   "cell_type": "code",
   "execution_count": null,
   "metadata": {
    "collapsed": true
   },
   "outputs": [],
   "source": []
  },
  {
   "cell_type": "markdown",
   "metadata": {},
   "source": [
    "**4.** Calculate the eigenvalues and eigenvectors of Mat2, and print them (printing the pair of returned arrays is fine) "
   ]
  },
  {
   "cell_type": "code",
   "execution_count": 50,
   "metadata": {},
   "outputs": [
    {
     "name": "stdout",
     "output_type": "stream",
     "text": [
      "Eigen Value:\n",
      "[ 19.75530817   0.65297116  -2.23276935]\n",
      "\n",
      "EigenVector(vertical stack)\n",
      "[[-0.70696977 -0.8022028   0.42320826]\n",
      " [-0.59649451 -0.08242487 -0.67359825]\n",
      " [-0.37998426  0.59133477  0.60593743]]\n"
     ]
    }
   ],
   "source": [
    "w, v = np.linalg.eig(Mat2)\n",
    "print(\"Eigen Value:\")\n",
    "print(w)\n",
    "print(\"\\nEigenVector(vertical stack)\")\n",
    "print(v)"
   ]
  },
  {
   "cell_type": "markdown",
   "metadata": {},
   "source": [
    "**5.** In a markdown cell, give a geometric understanding of what an eigenvector and its associated eigenvalue represent. What does a 0 eigenvalue mean? "
   ]
  },
  {
   "cell_type": "markdown",
   "metadata": {},
   "source": [
    "- Eigenvector tell the direction of the data space. When looking at the eigenvector we can dertermine the behavior of the data. In other word, Eigenvector tell us the concepts in our data. Each Eigenvectors is a concept. Concept means something that all data have in similar\n",
    "- Eigenvalue give the strength of the eigenvector. A really high eigen vector indicate that data space lean toward our eigenvector. In other word, eigenvalue tell the strengh of the concept in each eigenvalue direction. a High eigenvalue tell that a concept is highly trustable. Taking advantage of eigenvalue, we can reduce the data dimension by get rid of data dimension with low eigenvalue strength. \n",
    "- Having a 0 eigenvalue mean that there is a null space. We can compute the rank of the matrix and determine if a matrix is invertible by looking at the eigenvalue."
   ]
  },
  {
   "cell_type": "code",
   "execution_count": null,
   "metadata": {
    "collapsed": true
   },
   "outputs": [],
   "source": []
  }
 ],
 "metadata": {
  "kernelspec": {
   "display_name": "Python 3",
   "language": "python",
   "name": "python3"
  },
  "language_info": {
   "codemirror_mode": {
    "name": "ipython",
    "version": 3
   },
   "file_extension": ".py",
   "mimetype": "text/x-python",
   "name": "python",
   "nbconvert_exporter": "python",
   "pygments_lexer": "ipython3",
   "version": "3.6.7"
  }
 },
 "nbformat": 4,
 "nbformat_minor": 2
}
