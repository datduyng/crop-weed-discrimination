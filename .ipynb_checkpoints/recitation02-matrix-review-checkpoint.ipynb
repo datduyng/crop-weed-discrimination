{
 "cells": [
  {
   "cell_type": "markdown",
   "metadata": {},
   "source": [
    "\n"
   ]
  },
  {
   "cell_type": "code",
   "execution_count": 79,
   "metadata": {
    "collapsed": true
   },
   "outputs": [],
   "source": [
    "# As usual, a bit of setup\n",
    "from __future__ import print_function\n",
    "import matplotlib.pyplot as plt\n",
    "import numpy as np\n",
    "import pandas as pd\n",
    "\n",
    "# pd.set_option('display.max_rows', 1000)\n",
    "\n",
    "%matplotlib inline\n",
    "plt.rcParams['figure.figsize'] = (20,15) # set default size of plots\n",
    "plt.rcParams['image.interpolation'] = 'nearest'\n",
    "plt.rcParams['image.cmap'] = 'gray'\n",
    "\n",
    "\n",
    "# for auto-reloading external modules\n",
    "# see http://stackoverflow.com/questions/1907993/autoreload-of-modules-in-ipython\n",
    "%load_ext autoreload\n",
    "%autoreload 2"
   ]
  },
  {
   "cell_type": "markdown",
   "metadata": {},
   "source": [
    "## <u>Problem 1: Distances and Norms</u>"
   ]
  },
  {
   "cell_type": "markdown",
   "metadata": {},
   "source": [
    "<u>**Problem 1.**</u> In a cell by itself, define a function that accepts two equal sized NumPy arrays(vector) and return their cosine similarity. Use Numpy functions to calculate the dot product of the vectors and their magnitude\n",
    "\n",
    "**My note:**\n",
    "\n",
    "- [more info](http://blog.christianperone.com/2013/09/machine-learning-cosine-similarity-for-vector-space-models-part-iii/)\n",
    "\n",
    "**Dot Procduct**\n",
    "\n",
    "- Intuition: The dot product tell you what amount of one vector go to other vector direction. \n",
    "$$\n",
    "\\vec{v1} . \\vec{v2} = |v1||v2|cos(\\theta) \n",
    "$$\n",
    "- In this case, the $cos(\\theta)$ tell the strength on the direction of 2 vector. since cos() have range of 0 to 1.\n",
    "\n",
    "**Cosine simlilarity**\n",
    "\n",
    "- A measure that calcullate the cosin e of the angle between 2 vector. This metric measure the orientation and not the magnitude. Idea: measure the angle between the 2 vector(or documents)\n",
    "\n",
    "$$\n",
    "cos(\\theta) = \\frac{\\vec{v1} . \\vec{v2}}{|v1||v2|}\n",
    "$$\n"
   ]
  },
  {
   "cell_type": "markdown",
   "metadata": {},
   "source": [
    "###### Answer"
   ]
  },
  {
   "cell_type": "code",
   "execution_count": 45,
   "metadata": {
    "collapsed": true
   },
   "outputs": [],
   "source": [
    "#NOTE: this function return cos(theta) not theta\n",
    "def cos_similarity(v1, v2):\n",
    "    '''\n",
    "    This function compute the cos_similiarity given 2 **zero rank matrix**\n",
    "    '''\n",
    "    if(v1.shape != v2.shape):\n",
    "        raise ValueError('Dim error: %s not same as %s'%((v1.shape,),(v2.shape,)))\n",
    "    num = v1.T.dot(v2)\n",
    "    denom = np.linalg.norm(v1) * np.linalg.norm(v2)#Compute the magnitude\n",
    "    return num/denom"
   ]
  },
  {
   "cell_type": "code",
   "execution_count": 47,
   "metadata": {},
   "outputs": [
    {
     "name": "stdout",
     "output_type": "stream",
     "text": [
      "expected: 0.3069434629021368 answer: 0.306943462902\n",
      "expected: 0.3069434629021368 answer: 0.064543281456\n"
     ]
    }
   ],
   "source": [
    "v1 = np.array([121,51,6])\n",
    "v2 = np.array([2,51,61])\n",
    "v3 = np.array([23.1,36.2,457.0])\n",
    "v4 = np.array([2.2,62.0,-1])\n",
    "#Expected: 0.30694346290213681\n",
    "print('expected:',0.30694346290213681, 'answer:',cos_similarity(v1, v2))\n",
    "print('expected:',0.30694346290213681, 'answer:',cos_similarity(v3, v4))"
   ]
  },
  {
   "cell_type": "markdown",
   "metadata": {},
   "source": [
    "**Problem 2.** <br>\n",
    "**a.** Write a brief description of what cosine similarity measures focusing on the geometric interpretation"
   ]
  },
  {
   "cell_type": "markdown",
   "metadata": {},
   "source": [
    "- Base on the geometric interpretation, the similarity cosine measures the angles between 2 vectors. In other words, in a data space by looking at the similarity cosine measure we are able to determine the orientation of datas projected in "
   ]
  },
  {
   "cell_type": "markdown",
   "metadata": {},
   "source": [
    "**b.** Explain the geometric interpretation of two vectors with cosine similarity of 0 "
   ]
  },
  {
   "cell_type": "markdown",
   "metadata": {},
   "source": [
    "- When cosine similarity measure equals to 0 (`cos(90) = 0`), this tell that the data space is 90 degrees apart in their orientation. Further, the vectors are in difference space. One can coludes that the 2 attribute in vectors are not related(independent)\n",
    "\n",
    "- Ex:\n",
    "```python\n",
    "v1 = np.array([[0,3]])\n",
    "v2 = np.array([[2,0]])\n",
    "```\n",
    "\n",
    "- The above example would result cosine similarity measure to be zeros. As in each dimension, only one vector contribute to that data space.\n"
   ]
  },
  {
   "cell_type": "markdown",
   "metadata": {},
   "source": [
    "**c.**Explain the geometric interpretation of two vectors with a cosine similarity of 1 or -1 \n",
    "\n",
    "```\n",
    "cos(0) = 1\n",
    "cos(180) = -1\n",
    "```\n",
    "\n",
    "In the first case where the angle between vectors are 0 degrees apart. This indicate that vectors are in the same direction and result in the maximum strength.\n",
    "\n",
    "In the second case where the angle between vectors are 180 apart. This indicate that vectors are in the same axis(dimension) but in a complete opposite direction. \n",
    "\n",
    "<img src='https://user-images.githubusercontent.com/35666615/51205811-5a5dc300-18cc-11e9-84b6-6f57d7333ebc.PNG' width='500' height='500'>\n"
   ]
  },
  {
   "cell_type": "markdown",
   "metadata": {},
   "source": [
    "**3.** Manually define 3 numpy arrays (x1,x2,x3) and randomly generate 1 (x4) such that: <br>\n",
    "a) Each has 2 dimensions, and is integer valued from the set [-10,10]<br>\n",
    "b) x1 and x2 are collinear <br>\n",
    "c) x1 and x3 are orthogonal <br>\n",
    "d) x4 is randomly generated using NumPy’s random module, according to the criteria in a)<br>\n",
    "\n",
    "- My note:\n",
    "    - Colinearity of 2 point: Mean if vectors can be draw on a lines. Points are colinear if they all be drawn on a line. So 2 vector of 2 dim are alway colineary\n",
    "    - Colinearity: linear association between two dependent and independent variable. Two variable are perfectly colinear if there is an exact linear relationship between them. \n",
    "    - Ex: consider, $\\vec{a}$ and $\\vec{b}$. The 2 vector is colinear if one can be represent by multiple of other. (e.g $\\vec{a} = \\lambda\\vec{b}$) where $\\lambda$ is a scalar constant[(more info)](https://www.youtube.com/watch?v=RVVotbmzv1o)"
   ]
  },
  {
   "cell_type": "code",
   "execution_count": 139,
   "metadata": {},
   "outputs": [
    {
     "name": "stdout",
     "output_type": "stream",
     "text": [
      "x4: [ 2 -3]\n"
     ]
    }
   ],
   "source": [
    "x1 = np.array([1,1])\n",
    "x2 = np.array([2,2])\n",
    "x3 = np.array([-1,1])\n",
    "x4 = np.random.randint(low=-10,high=10, size=(2,))\n",
    "print(\"x4:\", x4)"
   ]
  },
  {
   "cell_type": "markdown",
   "metadata": {},
   "source": [
    "**4.** Print the result of your cosine similarity function applied to the pairs (x1,x2), (x1,x3), and (x1,x4) in a human-understandable way, e.g. “The cosine similarity of [1 1] and [-10 6] is -0.242535” \n",
    "\n",
    "Note: Cosine Similarity is useful in machine learning when we want a similarity metric between two vectors that is not dependent on their magnitudes. For this reason, it is frequently used in natural language processing to compare the content similarity of documents, even if they differ greatly in length"
   ]
  },
  {
   "cell_type": "code",
   "execution_count": 140,
   "metadata": {},
   "outputs": [
    {
     "name": "stdout",
     "output_type": "stream",
     "text": [
      "The Cosine similarity of(x1,x2) [[1 1]] and [[2 2]] is 1.000000\n",
      "The Cosine similarity of (x1,x3)[[1 1]] and [[-1  1]] is 0.000000\n",
      "The Cosine similarity of (x1,x4)[[1 1]] and [[ 2 -3]] is -0.196116\n"
     ]
    }
   ],
   "source": [
    "print(\"The Cosine similarity of(x1,x2) [%s] and [%s] is %f\"%\n",
    "      (np.array_str(x1),np.array_str(x2),cos_similarity(x1,x2)) )\n",
    "\n",
    "print(\"The Cosine similarity of (x1,x3)[%s] and [%s] is %f\"%\n",
    "      (np.array_str(x1),np.array_str(x3),cos_similarity(x1,x3)) )\n",
    "\n",
    "print(\"The Cosine similarity of (x1,x4)[%s] and [%s] is %f\"%\n",
    "      (np.array_str(x1),np.array_str(x4),cos_similarity(x1,x4)) )"
   ]
  },
  {
   "cell_type": "markdown",
   "metadata": {},
   "source": [
    "**5.** Use matplotlib.pyplot’s “quiver” function to graph all of your vectors on the same plane, assigning each a different color <br>\n",
    "a) example: [stackvoverflow](file:///C:/Users/datng/OneDrive/college/unlCourses/csce478-machine-learning/csce478-s19-Machine-Learning/handout/cs478-Recitation02.pdf)"
   ]
  },
  {
   "cell_type": "code",
   "execution_count": 143,
   "metadata": {},
   "outputs": [
    {
     "name": "stdout",
     "output_type": "stream",
     "text": [
      "[[ 1  1]\n",
      " [ 2  2]\n",
      " [-1  1]\n",
      " [ 2 -3]]\n"
     ]
    }
   ],
   "source": [
    "#Stack all the vector\n",
    "all_v = np.array([x1,x2,x3,x4])\n",
    "print(all_v)"
   ]
  },
  {
   "cell_type": "code",
   "execution_count": 144,
   "metadata": {},
   "outputs": [
    {
     "data": {
      "image/png": "[encoded data removed]",
      "text/plain": [
       "<matplotlib.figure.Figure at 0x2b7373b744e0>"
      ]
     },
     "metadata": {},
     "output_type": "display_data"
    }
   ],
   "source": [
    "origin = [0], [0] # origin poin\n",
    "plt.quiver(*origin, all_v[:,0], all_v[:,1],color=['r','b','g','y'], scale=21)\n",
    "plt.show()"
   ]
  },
  {
   "cell_type": "markdown",
   "metadata": {},
   "source": [
    "**6.** Compute and print out the following values for x4: L1 norm (aka Manhattan), L2 norm (aka Euclidean), L4, and L10 norms "
   ]
  },
  {
   "cell_type": "code",
   "execution_count": 155,
   "metadata": {
    "collapsed": true
   },
   "outputs": [],
   "source": [
    "norm = {}\n",
    "norm['L1'] = lambda x:np.abs(x).sum()\n",
    "norm['L2'] = lambda x:np.sqrt((x**2).sum())\n",
    "norm['L4'] = lambda x:np.sqrt((x**4).sum())\n",
    "norm['L10'] = lambda x:np.sqrt((x**10).sum())"
   ]
  },
  {
   "cell_type": "code",
   "execution_count": 165,
   "metadata": {},
   "outputs": [
    {
     "name": "stdout",
     "output_type": "stream",
     "text": [
      "L1 norm: 5.000000\n",
      "L2 norm: 3.605551\n",
      "L4 norm: 9.848858\n",
      "L10 norm: 245.097940\n"
     ]
    }
   ],
   "source": [
    "for key,L in norm.items(): \n",
    "    print('%s norm: %f'%(str(key),L(x4)))"
   ]
  },
  {
   "cell_type": "markdown",
   "metadata": {},
   "source": [
    "**7.** Compute and print out the following values for the pair of vectors (x1,x4): L1 distance (Manhattan), L2 distance (Euclidean), L4 distance, and L10 distance "
   ]
  },
  {
   "cell_type": "code",
   "execution_count": 166,
   "metadata": {
    "collapsed": true
   },
   "outputs": [],
   "source": [
    "norm2point = {}\n",
    "norm2point['L1'] = lambda x1,x2:np.abs(x1-x2).sum()\n",
    "norm2point['L2'] = lambda x1,x2:np.sqrt(((x1-x2)**2).sum())\n",
    "norm2point['L4'] = lambda x1,x2:np.sqrt(((x1-x2)**4).sum())\n",
    "norm2point['L10'] = lambda x1,x2:np.sqrt(((x1-x2)**10).sum())"
   ]
  },
  {
   "cell_type": "code",
   "execution_count": 164,
   "metadata": {},
   "outputs": [
    {
     "name": "stdout",
     "output_type": "stream",
     "text": [
      "L1 norm(x1,x4): 5.000000\n",
      "L2 norm(x1,x4): 4.123106\n",
      "L4 norm(x1,x4): 16.031220\n",
      "L10 norm(x1,x4): 1024.000488\n"
     ]
    }
   ],
   "source": [
    "for key,L in norm2point.items(): \n",
    "    print('%s norm(x1,x4): %f'%(str(key),L(x1,x4)))"
   ]
  },
  {
   "cell_type": "markdown",
   "metadata": {},
   "source": [
    "------"
   ]
  },
  {
   "cell_type": "markdown",
   "metadata": {},
   "source": [
    "## <u> Problem 2: Rank, Matrix Inverses, and Solving Linear Systems</u>"
   ]
  },
  {
   "cell_type": "markdown",
   "metadata": {},
   "source": [
    "**1.** Using the seed 402, generate a uniform random 3x3 matrix with continuous values from the set [10,10). We will call this matrix Mat for the remainder of the problem. <br>\n",
    "a. Print the matrix<br>\n",
    "b. Print the rank of the matrix<br>\n",
    "\n",
    "**my note:**\n",
    "\n",
    "- The [rank of a matrix](https://stattrek.com/matrix-algebra/matrix-rank.aspx) tell the degree of freedom of the system(in this case a matrix). Rank of matrix equal to the total of number of independent variable in the system(represent by a matrix in this case). Total number of independent variable can be find by detmine the REF of the matrix\n",
    "<img src=\"https://user-images.githubusercontent.com/35666615/51213288-4f149280-18e0-11e9-894a-d0f5497ace22.jpg\">"
   ]
  },
  {
   "cell_type": "code",
   "execution_count": 113,
   "metadata": {
    "collapsed": true
   },
   "outputs": [],
   "source": [
    "np.random.seed(402)"
   ]
  },
  {
   "cell_type": "code",
   "execution_count": 125,
   "metadata": {},
   "outputs": [
    {
     "name": "stdout",
     "output_type": "stream",
     "text": [
      "[[ 0.35879067 -3.84616141 -0.58377238]\n",
      " [-9.1000809  -4.61660775  8.39332618]\n",
      " [ 3.65305941  1.58815092  2.52299278]]\n",
      "Rank of W: 3\n"
     ]
    }
   ],
   "source": [
    "Mat = np.random.uniform(low=-10.0, high=10.0, size=(3,3))\n",
    "print(Mat)\n",
    "print(\"Rank of W:\", np.linalg.matrix_rank(Mat))"
   ]
  },
  {
   "cell_type": "code",
   "execution_count": 124,
   "metadata": {
    "collapsed": true
   },
   "outputs": [],
   "source": []
  },
  {
   "cell_type": "markdown",
   "metadata": {},
   "source": [
    "**2.** In a markdown cell, explain the relationship between the rank of a matrix and the existence of the matrix inverse. Explain the geometric intuition for this relationship. "
   ]
  },
  {
   "cell_type": "markdown",
   "metadata": {
    "collapsed": true
   },
   "source": [
    "My note:<br>\n",
    "Does the Inverse Exist?[(more info)](https://stattrek.com/matrix-algebra/matrix-inverse.aspx)<br> \n",
    "\n",
    "- There are 2 ways to detemine whether the inverse of a square matrix exist:\n",
    "    - **Detemine its ranks.** The rank of a matrix is a unique number associated with a squared matrix. If the rank of an n x n matrix is less than n, the matrix does not have an inverse. Why? because a rank less than its matrix dimension mean that the space of all vector in matrix is missing one dimension(otherword, there exist at least one dimension in the matrix where it is null or nothing)\n",
    "    - **Compute its determinant**. The determinant is another unique number associated with a square matrix. When the determinant for a square matrix equal to zero, the inverse for that matrix does not exist. "
   ]
  },
  {
   "cell_type": "markdown",
   "metadata": {
    "collapsed": true
   },
   "source": [
    "#### Answer: \n",
    "- The rank of a matrix is a unique number associated with a squared matrix. If the rank of an n x n matrix is less than n, the matrix does not have an inverse. Why? because a rank less than its matrix dimension mean that the space of all vector in matrix is missing one dimension(otherword, there exist at least one dimension in the matrix where it is null or nothing)"
   ]
  },
  {
   "cell_type": "markdown",
   "metadata": {},
   "source": [
    "**3.** Calculate and print the multiplicative inverse of Mat using NumPy. \n",
    "\n",
    "- **NOTE**: the result of this problem is the Identity matrix. some of the result are `-6.93889390e-18, -6.93889390e-17` which is close to zeros"
   ]
  },
  {
   "cell_type": "code",
   "execution_count": 168,
   "metadata": {},
   "outputs": [
    {
     "name": "stdout",
     "output_type": "stream",
     "text": [
      "[[  1.00000000e+00  -6.93889390e-18   1.38777878e-17]\n",
      " [ -6.93889390e-17   1.00000000e+00  -2.22044605e-16]\n",
      " [ -2.42861287e-17   0.00000000e+00   1.00000000e+00]]\n"
     ]
    }
   ],
   "source": [
    "I = Mat.dot(np.linalg.inv(Mat))\n",
    "print(I)"
   ]
  },
  {
   "cell_type": "markdown",
   "metadata": {},
   "source": [
    "**4.** Use the inverse of Mat to solve the equation below for x. Note that * will denote standard matrix multiplication: \n",
    "$$\n",
    "Mat * x = b\\\\\n",
    "where\\,b = [1\\,2\\,3].T\n",
    "$$"
   ]
  },
  {
   "cell_type": "code",
   "execution_count": 173,
   "metadata": {},
   "outputs": [
    {
     "name": "stdout",
     "output_type": "stream",
     "text": [
      "[[-0.41320222  0.13392141  0.64793601]]\n"
     ]
    }
   ],
   "source": [
    "b = np.array([[1,2,3]])\n",
    "x = np.linalg.inv(Mat).dot\n",
    "print(x)"
   ]
  },
  {
   "cell_type": "code",
   "execution_count": 176,
   "metadata": {},
   "outputs": [
    {
     "name": "stdout",
     "output_type": "stream",
     "text": [
      "Mat dot x = b [[ 1.  2.  3.]]\n"
     ]
    }
   ],
   "source": [
    "print('Mat dot x = b', x.dot(Mat))"
   ]
  },
  {
   "cell_type": "markdown",
   "metadata": {},
   "source": [
    "**5.** Use NumPy’s built-in solver (linalg.solve) to find x numerically <br>\n",
    "a. Print the new x <br>\n",
    "b. Always do this in the real world instead of calculating the inverse first in order to preserve numerical stability as much as possible. It can be an issue on larger problems. <br>"
   ]
  },
  {
   "cell_type": "code",
   "execution_count": 184,
   "metadata": {},
   "outputs": [
    {
     "name": "stdout",
     "output_type": "stream",
     "text": [
      "[[ 0.51871363]\n",
      " [-0.30746926]\n",
      " [ 0.63155785]]\n"
     ]
    }
   ],
   "source": [
    "newX = (np.linalg.solve(Mat, b.T))\n",
    "print(newX)"
   ]
  },
  {
   "cell_type": "code",
   "execution_count": 189,
   "metadata": {},
   "outputs": [
    {
     "data": {
      "text/plain": [
       "array([[ 1.],\n",
       "       [ 2.],\n",
       "       [ 3.]])"
      ]
     },
     "execution_count": 189,
     "metadata": {},
     "output_type": "execute_result"
    }
   ],
   "source": [
    "## Quick sanity check\n",
    "np.dot(Mat, newX)"
   ]
  },
  {
   "cell_type": "markdown",
   "metadata": {},
   "source": [
    "**6.** Define a new matrix,\n",
    "\n",
    "```python\n",
    "newMat = [1,-1,1]\n",
    "         [-3,2,4]\n",
    "         [-1,0,6]\n",
    "```\n",
    "\n",
    "a. Print newMat's rank <br>\n",
    "b. Print newmat's inverse<br>\n",
    "c. print newMat * newMatInverse<br>\n",
    "d. Solve the equation in part 4, subtitute newMat for Mat\n",
    "e. Notice the lack of errors and think about the implications when you may need to use these functions in designing a machine learning algorithm. Write these thoughts in a separate markdown cell. "
   ]
  },
  {
   "cell_type": "code",
   "execution_count": 196,
   "metadata": {},
   "outputs": [
    {
     "name": "stdout",
     "output_type": "stream",
     "text": [
      "a. Rank: 2\n",
      "\n",
      "b. Inverse:\n",
      "[[ -1.35107989e+16  -6.75539944e+15   6.75539944e+15]\n",
      " [ -1.57625987e+16  -7.88129935e+15   7.88129935e+15]\n",
      " [ -2.25179981e+15  -1.12589991e+15   1.12589991e+15]]\n",
      "\n",
      "c. newMat * newMatInverse\n",
      "[[ 0.  0.  1.]\n",
      " [ 0.  0. -2.]\n",
      " [ 0.  0.  0.]]\n"
     ]
    }
   ],
   "source": [
    "newMat = np.array([[1,-1,1],\n",
    "                   [-3,2,4],\n",
    "                   [-1,0,6]])\n",
    "#get Rank\n",
    "print(\"a. Rank:\", np.linalg.matrix_rank(newMat))\n",
    "\n",
    "# Get inverse\n",
    "print(\"\\nb. Inverse:\")\n",
    "newMatInverse = np.linalg.inv(newMat)\n",
    "print(newMatInverse)\n",
    "\n",
    "#newMat * newMatInverse\n",
    "print(\"\\nc. newMat * newMatInverse\")\n",
    "print(newMat.dot(newMatInverse))\n",
    "\n",
    "print(\"\\nd. Solve the equation in part 4, substituting newMat for Mat\")\n",
    "\n"
   ]
  },
  {
   "cell_type": "code",
   "execution_count": null,
   "metadata": {
    "collapsed": true
   },
   "outputs": [],
   "source": []
  }
 ],
 "metadata": {
  "kernelspec": {
   "display_name": "Python 3",
   "language": "python",
   "name": "python3"
  },
  "language_info": {
   "codemirror_mode": {
    "name": "ipython",
    "version": 3
   },
   "file_extension": ".py",
   "mimetype": "text/x-python",
   "name": "python",
   "nbconvert_exporter": "python",
   "pygments_lexer": "ipython3",
   "version": "3.6.7"
  }
 },
 "nbformat": 4,
 "nbformat_minor": 2
}
